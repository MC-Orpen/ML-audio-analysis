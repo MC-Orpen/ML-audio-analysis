{
  "nbformat": 4,
  "nbformat_minor": 0,
  "metadata": {
    "colab": {
      "name": "Copy of ML_CW_v2.ipynb",
      "provenance": [],
      "collapsed_sections": []
    },
    "kernelspec": {
      "display_name": "Python 3",
      "language": "python",
      "name": "python3"
    },
    "language_info": {
      "codemirror_mode": {
        "name": "ipython",
        "version": 3
      },
      "file_extension": ".py",
      "mimetype": "text/x-python",
      "name": "python",
      "nbconvert_exporter": "python",
      "pygments_lexer": "ipython3",
      "version": "3.8.5"
    }
  },
  "cells": [
    {
      "cell_type": "markdown",
      "metadata": {
        "id": "fC-22UBGXn-1"
      },
      "source": [
        "# ECS708P Audio Detection and Analysis Machine Learning Project\n",
        "\n",
        "The aim of this project is the application of machine learning techniques to the real-world problem of audio detection and analysis.\n",
        "\n",
        "### Project introduction\n",
        "The class contained 184 students, each of whom was required to make a series of voice recordings saying a series of numbers, which are shown below. The participant had to take a recording in four different intonations/tones, which were then catergorised accordingly. The different tones used were \"question\", \"neutral\", \"bored\" and \"excited\".\n",
        "\n",
        "In the first section, different audio features are extracted and processed, including MFCCs, zero crossing rates and spectral centroids. A basic solution used a variety of classification models to predict the intontation of audio sequences.\n",
        "\n",
        "An advanced solution was created, using neural networks to try and match the voice to the participant. Four different neural networks were trained and validated, with the optimal neural network able to successfully predict the participant from the class 35% of the time. \n",
        "\n",
        "Due to the time taken to load the dataset, only 5000 recordings were used with 4000 used in training and 1000 in validation. The model's quality is demonstrated by its accuracy of 35% out of a class of 184.\n",
        "\n",
        "1. **Section 1:** Pre-processing and feature extraction\n",
        "\n",
        "2. **Section 2:** Basic solution\n",
        "\n",
        "3. **Section 3:** Advanced solution"
      ]
    },
    {
      "cell_type": "code",
      "metadata": {
        "id": "-4NtuEQoxI4Y",
        "colab": {
          "base_uri": "https://localhost:8080/"
        },
        "outputId": "ea96bee8-a546-422b-a3fe-4607dcdb17cc"
      },
      "source": [
        "# Importing packages\n",
        "from google.colab import drive\n",
        "\n",
        "import numpy as np\n",
        "import pandas as pd\n",
        "import matplotlib.pyplot as plt\n",
        "import seaborn as sns\n",
        "import sklearn\n",
        "from sklearn import svm\n",
        "from sklearn.model_selection import train_test_split\n",
        "from sklearn.metrics import confusion_matrix, classification_report\n",
        "from sklearn.preprocessing import LabelEncoder, minmax_scale\n",
        "from sklearn.ensemble import RandomForestClassifier\n",
        "from sklearn.linear_model import LogisticRegression\n",
        "from sklearn.naive_bayes import GaussianNB\n",
        "\n",
        "\n",
        "import os, sys, re, pickle, glob\n",
        "import urllib.request\n",
        "import zipfile\n",
        "\n",
        "import IPython.display as ipd\n",
        "from tqdm import tqdm\n",
        "import librosa\n",
        "import librosa.display\n",
        "\n",
        "drive.mount('/content/drive')\n",
        "\n",
        "import torch\n",
        "from torch import nn\n",
        "from torch.utils.data import TensorDataset, DataLoader\n",
        "import torch.nn.functional as F"
      ],
      "execution_count": 27,
      "outputs": [
        {
          "output_type": "stream",
          "name": "stdout",
          "text": [
            "Drive already mounted at /content/drive; to attempt to forcibly remount, call drive.mount(\"/content/drive\", force_remount=True).\n"
          ]
        }
      ]
    },
    {
      "cell_type": "code",
      "metadata": {
        "id": "XU-WbJenyt60"
      },
      "source": [
        "path = '/content/drive/MyDrive/Data/MLEnd'\n",
        "os.listdir(path)\n",
        "\n",
        "files = glob.glob('/content/drive/MyDrive/Data/MLEnd/training/*/*.wav')\n"
      ],
      "execution_count": 28,
      "outputs": []
    },
    {
      "cell_type": "markdown",
      "metadata": {
        "id": "RFjMuNbLxgfr"
      },
      "source": [
        "\n",
        "# Section 1: Pre-processing and feature extraction\n",
        "\n",
        "The following features were extracted from the audio files. \n",
        "* MFCCs\n",
        "* Zero Crossing Rate\n",
        "* Spectral Centroid\n",
        "* Spectral Rolloff\n",
        "* Chroma Frequencies"
      ]
    },
    {
      "cell_type": "markdown",
      "metadata": {
        "id": "zV4MShCawhKD"
      },
      "source": [
        "### Plotting the audio"
      ]
    },
    {
      "cell_type": "code",
      "metadata": {
        "id": "76kpADTxf9Eo",
        "colab": {
          "base_uri": "https://localhost:8080/",
          "height": 337
        },
        "outputId": "1a2e7db3-f647-486a-f705-69370f4e2a8a"
      },
      "source": [
        "n=0\n",
        "fs = None \n",
        "x, fs = librosa.load(files[n],sr=fs)\n",
        "t = np.arange(len(x))/fs\n",
        "plt.plot(t,x)\n",
        "plt.xlabel('time (sec)')\n",
        "plt.ylabel('amplitude')\n",
        "plt.show()\n",
        "display(ipd.Audio(files[n]))"
      ],
      "execution_count": 29,
      "outputs": [
        {
          "output_type": "display_data",
          "data": {
            "image/png": "[encoded data removed]",
            "text/plain": [
              "<Figure size 432x288 with 1 Axes>"
            ]
          },
          "metadata": {
            "needs_background": "light"
          }
        },
        {
          "output_type": "display_data",
          "data": {
            "text/html": [
              "\n",
              "                <audio controls=\"controls\" >\n",
              "                    <source src=\"data:audio/x-wav;base64,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\" type=\"audio/x-wav\" />\n",
              "                    Your browser does not support the audio element.\n",
              "                </audio>\n",
              "              "
            ],
            "text/plain": [
              "<IPython.lib.display.Audio object>"
            ]
          },
          "metadata": {}
        }
      ]
    },
    {
      "cell_type": "markdown",
      "metadata": {
        "id": "bDzFEN_plNIF"
      },
      "source": [
        "### Encoding of intonations\n",
        "The intonation of each associated audiofile was encoded."
      ]
    },
    {
      "cell_type": "code",
      "metadata": {
        "id": "VSe9A-XN5Kj6",
        "colab": {
          "base_uri": "https://localhost:8080/",
          "height": 206
        },
        "outputId": "6219b3e6-4ca9-4de6-ddaf-15d918b36271"
      },
      "source": [
        "labels = pd.read_csv('/content/drive/MyDrive/Data/MLEnd/trainingMLEnd.csv')\n",
        "\n",
        "le = LabelEncoder()\n",
        "labels['intonation_label'] = le.fit_transform(labels['intonation'])\n",
        "\n",
        "# Dictionary mapping of label encoding\n",
        "le_label_mapping=dict(zip(le.transform(le.classes_), le.classes_))\n",
        "le_label_mapping\n",
        "\n",
        "labels.head()"
      ],
      "execution_count": 30,
      "outputs": [
        {
          "output_type": "execute_result",
          "data": {
            "text/html": [
              "<div>\n",
              "<style scoped>\n",
              "    .dataframe tbody tr th:only-of-type {\n",
              "        vertical-align: middle;\n",
              "    }\n",
              "\n",
              "    .dataframe tbody tr th {\n",
              "        vertical-align: top;\n",
              "    }\n",
              "\n",
              "    .dataframe thead th {\n",
              "        text-align: right;\n",
              "    }\n",
              "</style>\n",
              "<table border=\"1\" class=\"dataframe\">\n",
              "  <thead>\n",
              "    <tr style=\"text-align: right;\">\n",
              "      <th></th>\n",
              "      <th>File ID</th>\n",
              "      <th>digit_label</th>\n",
              "      <th>participant</th>\n",
              "      <th>intonation</th>\n",
              "      <th>intonation_label</th>\n",
              "    </tr>\n",
              "  </thead>\n",
              "  <tbody>\n",
              "    <tr>\n",
              "      <th>0</th>\n",
              "      <td>0000000.wav</td>\n",
              "      <td>4</td>\n",
              "      <td>S73</td>\n",
              "      <td>question</td>\n",
              "      <td>3</td>\n",
              "    </tr>\n",
              "    <tr>\n",
              "      <th>1</th>\n",
              "      <td>0000001.wav</td>\n",
              "      <td>2</td>\n",
              "      <td>S88</td>\n",
              "      <td>excited</td>\n",
              "      <td>1</td>\n",
              "    </tr>\n",
              "    <tr>\n",
              "      <th>2</th>\n",
              "      <td>0000002.wav</td>\n",
              "      <td>70</td>\n",
              "      <td>S5</td>\n",
              "      <td>neutral</td>\n",
              "      <td>2</td>\n",
              "    </tr>\n",
              "    <tr>\n",
              "      <th>3</th>\n",
              "      <td>0000003.wav</td>\n",
              "      <td>2</td>\n",
              "      <td>S85</td>\n",
              "      <td>bored</td>\n",
              "      <td>0</td>\n",
              "    </tr>\n",
              "    <tr>\n",
              "      <th>4</th>\n",
              "      <td>0000004.wav</td>\n",
              "      <td>4</td>\n",
              "      <td>S30</td>\n",
              "      <td>excited</td>\n",
              "      <td>1</td>\n",
              "    </tr>\n",
              "  </tbody>\n",
              "</table>\n",
              "</div>"
            ],
            "text/plain": [
              "       File ID  digit_label participant intonation  intonation_label\n",
              "0  0000000.wav            4         S73   question                 3\n",
              "1  0000001.wav            2         S88    excited                 1\n",
              "2  0000002.wav           70          S5    neutral                 2\n",
              "3  0000003.wav            2         S85      bored                 0\n",
              "4  0000004.wav            4         S30    excited                 1"
            ]
          },
          "metadata": {},
          "execution_count": 30
        }
      ]
    },
    {
      "cell_type": "code",
      "metadata": {
        "colab": {
          "base_uri": "https://localhost:8080/"
        },
        "id": "-PT61x6SrRv7",
        "outputId": "4e1900ee-83bd-4082-e587-32b81bcef543"
      },
      "source": [
        "# Digits used in recordings\n",
        "sorted(labels['digit_label'].unique())"
      ],
      "execution_count": 31,
      "outputs": [
        {
          "output_type": "execute_result",
          "data": {
            "text/plain": [
              "[0,\n",
              " 1,\n",
              " 2,\n",
              " 3,\n",
              " 4,\n",
              " 5,\n",
              " 6,\n",
              " 7,\n",
              " 8,\n",
              " 9,\n",
              " 10,\n",
              " 11,\n",
              " 12,\n",
              " 13,\n",
              " 14,\n",
              " 15,\n",
              " 16,\n",
              " 17,\n",
              " 18,\n",
              " 19,\n",
              " 20,\n",
              " 30,\n",
              " 40,\n",
              " 50,\n",
              " 60,\n",
              " 70,\n",
              " 80,\n",
              " 90,\n",
              " 100,\n",
              " 1000,\n",
              " 1000000,\n",
              " 1000000000]"
            ]
          },
          "metadata": {},
          "execution_count": 31
        }
      ]
    },
    {
      "cell_type": "markdown",
      "metadata": {
        "id": "xgLXjpvMe_TE"
      },
      "source": [
        "#### Label encoding dictionary"
      ]
    },
    {
      "cell_type": "code",
      "metadata": {
        "id": "rnWTQ186oP6L",
        "colab": {
          "base_uri": "https://localhost:8080/"
        },
        "outputId": "589c5fda-ea6d-4cab-c508-45e9c81c3e70"
      },
      "source": [
        "le_label_mapping"
      ],
      "execution_count": 32,
      "outputs": [
        {
          "output_type": "execute_result",
          "data": {
            "text/plain": [
              "{0: 'bored', 1: 'excited', 2: 'neutral', 3: 'question'}"
            ]
          },
          "metadata": {},
          "execution_count": 32
        }
      ]
    },
    {
      "cell_type": "markdown",
      "metadata": {
        "id": "BpdYf1TIgI2k"
      },
      "source": [
        "## Pre-feature extraction\n",
        "### MFCC features"
      ]
    },
    {
      "cell_type": "code",
      "metadata": {
        "id": "LY5yH0_ti7j_",
        "colab": {
          "base_uri": "https://localhost:8080/",
          "height": 278
        },
        "outputId": "17fe9ef7-31a7-4fbc-ae7e-38273c8b8253"
      },
      "source": [
        "mfccs = librosa.feature.mfcc(x, sr=fs)\n",
        "# MFCC visualisation\n",
        "librosa.display.specshow(mfccs, sr=fs, x_axis='time');\n"
      ],
      "execution_count": 33,
      "outputs": [
        {
          "output_type": "display_data",
          "data": {
            "image/png": "[encoded data removed]",
            "text/plain": [
              "<Figure size 432x288 with 1 Axes>"
            ]
          },
          "metadata": {
            "needs_background": "light"
          }
        }
      ]
    },
    {
      "cell_type": "markdown",
      "metadata": {
        "id": "9nV7yjkOikld"
      },
      "source": [
        "### Zero crossing rate\n",
        "\n",
        "Zero crossing rate is the rate at which the signal crosses from a positive signal to a negative signal or from a negative signal to a postive one. The plot an audio signal is given below."
      ]
    },
    {
      "cell_type": "code",
      "metadata": {
        "id": "eM4Kt9kWhk7b",
        "colab": {
          "base_uri": "https://localhost:8080/",
          "height": 405
        },
        "outputId": "5b5eecd7-b6cc-4b3d-a08d-c3d9521a9515"
      },
      "source": [
        "# audio signal visualisation\n",
        "plt.figure(figsize=(12,6))\n",
        "librosa.display.waveplot(x, sr=fs)"
      ],
      "execution_count": 34,
      "outputs": [
        {
          "output_type": "execute_result",
          "data": {
            "text/plain": [
              "<matplotlib.collections.PolyCollection at 0x7ff13feb7c10>"
            ]
          },
          "metadata": {},
          "execution_count": 34
        },
        {
          "output_type": "display_data",
          "data": {
            "image/png": "[encoded data removed]",
            "text/plain": [
              "<Figure size 864x432 with 1 Axes>"
            ]
          },
          "metadata": {
            "needs_background": "light"
          }
        }
      ]
    },
    {
      "cell_type": "markdown",
      "metadata": {
        "id": "tqycuIeJlg0T"
      },
      "source": [
        "A small section of this audio wave is sliced and shown below. You can see here that the signal crosses 3 times across the slice of 50 points."
      ]
    },
    {
      "cell_type": "code",
      "metadata": {
        "id": "5qo8euO7hl9i",
        "colab": {
          "base_uri": "https://localhost:8080/",
          "height": 373
        },
        "outputId": "41568f46-3cb6-4d21-985c-9c72d49c6781"
      },
      "source": [
        "plt.figure(figsize=(12,6))\n",
        "zcr1, zcr2 = 15000,15050\n",
        "plt.plot(x[zcr1:zcr2])\n",
        "plt.grid()\n"
      ],
      "execution_count": 35,
      "outputs": [
        {
          "output_type": "display_data",
          "data": {
            "image/png": "[encoded data removed]",
            "text/plain": [
              "<Figure size 864x432 with 1 Axes>"
            ]
          },
          "metadata": {
            "needs_background": "light"
          }
        }
      ]
    },
    {
      "cell_type": "markdown",
      "metadata": {
        "id": "gcqq6FwOpnZn"
      },
      "source": [
        "### Spectral Centroid\n",
        "The spectral centroid is the weighted mean of the frequencies in the signal."
      ]
    },
    {
      "cell_type": "code",
      "metadata": {
        "id": "wRngtN7xhlqI",
        "colab": {
          "base_uri": "https://localhost:8080/",
          "height": 405
        },
        "outputId": "a6d2ba87-70f7-4ebf-d706-279c67681e7c"
      },
      "source": [
        "spec_centroids = librosa.feature.spectral_centroid(x, sr=fs)[0]\n",
        "\n",
        "plt.figure(figsize=(12,6))\n",
        "\n",
        "f_range = range(len(spec_centroids))\n",
        "t = librosa.frames_to_time(f_range)\n",
        "\n",
        "def norm(x, axis=0):\n",
        "    return minmax_scale(x, axis=axis)\n",
        "\n",
        "# Visualisation of spectral centroid\n",
        "librosa.display.waveplot(x, sr=fs, alpha=0.5)\n",
        "\n",
        "plt.plot(t, norm(spec_centroids))\n"
      ],
      "execution_count": 36,
      "outputs": [
        {
          "output_type": "execute_result",
          "data": {
            "text/plain": [
              "[<matplotlib.lines.Line2D at 0x7ff13fd7a5d0>]"
            ]
          },
          "metadata": {},
          "execution_count": 36
        },
        {
          "output_type": "display_data",
          "data": {
            "image/png": "[encoded data removed]",
            "text/plain": [
              "<Figure size 864x432 with 1 Axes>"
            ]
          },
          "metadata": {
            "needs_background": "light"
          }
        }
      ]
    },
    {
      "cell_type": "markdown",
      "metadata": {
        "id": "5KhQPCe-zhh8"
      },
      "source": [
        "### Spectral Rolloff"
      ]
    },
    {
      "cell_type": "code",
      "metadata": {
        "id": "gKzZSpXdzmGB",
        "colab": {
          "base_uri": "https://localhost:8080/",
          "height": 405
        },
        "outputId": "6b152784-9510-4433-e33d-c571c8c23422"
      },
      "source": [
        "plt.figure(figsize=(12,6))\n",
        "spec_rolloff = librosa.feature.spectral_rolloff(x, sr=fs)[0]\n",
        "librosa.display.waveplot(x, sr=fs, alpha=0.5)\n",
        "plt.plot(t, norm(spec_rolloff))\n"
      ],
      "execution_count": 37,
      "outputs": [
        {
          "output_type": "execute_result",
          "data": {
            "text/plain": [
              "[<matplotlib.lines.Line2D at 0x7ff13fd55950>]"
            ]
          },
          "metadata": {},
          "execution_count": 37
        },
        {
          "output_type": "display_data",
          "data": {
            "image/png": "[encoded data removed]",
            "text/plain": [
              "<Figure size 864x432 with 1 Axes>"
            ]
          },
          "metadata": {
            "needs_background": "light"
          }
        }
      ]
    },
    {
      "cell_type": "markdown",
      "metadata": {
        "id": "4kxJT6t31_4l"
      },
      "source": [
        "### Chroma frequencies "
      ]
    },
    {
      "cell_type": "code",
      "metadata": {
        "id": "fLMVWTuW1_dT",
        "colab": {
          "base_uri": "https://localhost:8080/",
          "height": 405
        },
        "outputId": "da405963-a9c5-404d-fea3-32b754aed85b"
      },
      "source": [
        "chromagram = librosa.feature.chroma_stft(x, sr=fs)\n",
        "plt.figure(figsize=(12, 6))\n",
        "\n",
        "# chromagram visualisation\n",
        "librosa.display.specshow(chromagram, x_axis='time', y_axis='chroma', cmap='PRGn')"
      ],
      "execution_count": 38,
      "outputs": [
        {
          "output_type": "execute_result",
          "data": {
            "text/plain": [
              "<matplotlib.collections.QuadMesh at 0x7ff13fe37d50>"
            ]
          },
          "metadata": {},
          "execution_count": 38
        },
        {
          "output_type": "display_data",
          "data": {
            "image/png": "[encoded data removed]",
            "text/plain": [
              "<Figure size 864x432 with 1 Axes>"
            ]
          },
          "metadata": {
            "needs_background": "light"
          }
        }
      ]
    },
    {
      "cell_type": "code",
      "metadata": {
        "id": "7swjqcap8BCi"
      },
      "source": [
        "def getPitch(x,fs,winLen=0.02):\n",
        "  #winLen = 0.02 \n",
        "  p = winLen*fs\n",
        "  frame_length = int(2**int(p-1).bit_length())\n",
        "  hop_length = frame_length//2\n",
        "  f0, voiced_flag, voiced_probs = librosa.pyin(y=x, fmin=80, fmax=450, sr=fs,\n",
        "                                                 frame_length=frame_length,hop_length=hop_length)\n",
        "  return f0,voiced_flag"
      ],
      "execution_count": 39,
      "outputs": []
    },
    {
      "cell_type": "code",
      "metadata": {
        "id": "e7u8Yl359SQ_"
      },
      "source": [
        "def getXy(files,labels_file,scale_audio=False, onlySingleDigit=False):\n",
        "  X,y =[],[]\n",
        "  for file in tqdm(files):\n",
        "    fileID = file.split('/')[-1]\n",
        "    yi = list(labels_file[labels_file['File ID']==fileID]['intonation_label'])[0]\n",
        "    if onlySingleDigit and yi>9:\n",
        "      continue\n",
        "    else:\n",
        "      fs = None # if None, fs would be 22050\n",
        "      x, fs = librosa.load(file,sr=fs)\n",
        "      if scale_audio: x = x/np.max(np.abs(x))\n",
        "      f0, voiced_flag = getPitch(x,fs,winLen=0.02)\n",
        "      \n",
        "      power = np.sum(x**2)/len(x)\n",
        "      pitch_mean = np.nanmean(f0) if np.mean(np.isnan(f0))<1 else 0\n",
        "      pitch_std  = np.nanstd(f0) if np.mean(np.isnan(f0))<1 else 0\n",
        "      voiced_fr = np.mean(voiced_flag)\n",
        "\n",
        "      # zero crossing rate\n",
        "      z_crossings = librosa.zero_crossings(x, pad=False)\n",
        "      zc_rate = sum(z_crossings)/len(x)\n",
        "\n",
        "      # MFCCs\n",
        "      mfccs = np.mean(librosa.feature.mfcc(x, sr=fs))\n",
        "\n",
        "      # spectral centroids\n",
        "      spec_centroids = np.mean(librosa.feature.spectral_centroid(x, sr=fs))\n",
        "\n",
        "      # spectral rolloff\n",
        "      spec_rolloff = np.mean(librosa.feature.spectral_rolloff(x, sr=fs))\n",
        "      \n",
        "      # chroma freqs\n",
        "      chromagram = np.mean(librosa.feature.chroma_stft(x, sr=fs))\n",
        "\n",
        "      xi = [power,pitch_mean,pitch_std,voiced_fr, zc_rate, mfccs, spec_centroids, spec_rolloff, chromagram]\n",
        "      X.append(xi)\n",
        "      y.append(yi)\n",
        "  return np.array(X),np.array(y)"
      ],
      "execution_count": 40,
      "outputs": []
    },
    {
      "cell_type": "code",
      "metadata": {
        "id": "M8hjzCMb_THr",
        "colab": {
          "base_uri": "https://localhost:8080/"
        },
        "outputId": "8704e001-24b6-4fd5-af63-cb5ce3162e84"
      },
      "source": [
        "Xb1,yb1 = getXy(files[:500],labels_file=labels,scale_audio=True, onlySingleDigit=True)\n",
        "\n",
        "# If you want to use all 20000 files, run next line instead\n",
        "# X,y = getXy(files,labels_file=labels,scale_audio=True, onlySingleDigit=True)"
      ],
      "execution_count": 41,
      "outputs": [
        {
          "output_type": "stream",
          "name": "stderr",
          "text": [
            "100%|██████████| 500/500 [03:59<00:00,  2.09it/s]\n"
          ]
        }
      ]
    },
    {
      "cell_type": "code",
      "metadata": {
        "id": "h4G1-wLgjC2f"
      },
      "source": [
        "X_copy = Xb1.copy()\n",
        "y_copy = yb1.copy()"
      ],
      "execution_count": 42,
      "outputs": []
    },
    {
      "cell_type": "markdown",
      "metadata": {
        "id": "YtsNkjyfFvAQ"
      },
      "source": [
        "# Section 2: Basic solution\n",
        "\n",
        "A number of different classifiers were investigated to see the affect on the accuracy. The classifiers considered were:\n",
        "* Support Vector Machines\n",
        "* Naive Bayes classification\n",
        "* Logistic regression\n",
        "* Random Forest classification\n",
        "\n",
        "\n",
        "\n",
        "The features and labels were put into a dataframe, as shown below."
      ]
    },
    {
      "cell_type": "code",
      "metadata": {
        "id": "_I8ewspI9HIm",
        "colab": {
          "base_uri": "https://localhost:8080/",
          "height": 206
        },
        "outputId": "f0a0458a-a370-40bd-bdc5-2012de95fbe2"
      },
      "source": [
        "features_df = pd.DataFrame(np.column_stack([Xb1,yb1]))\n",
        "features_df.columns=['power','pitch_mean','pitch_std','voiced_fr', \n",
        "                     'zc_rate','mfccs', 'spec_centroids', 'spec_rolloff', 'chromagram', 'intonation_label']\n",
        "features_df.intonation_label = features_df.intonation_label.astype('int64')\n",
        "features_df.head()"
      ],
      "execution_count": 43,
      "outputs": [
        {
          "output_type": "execute_result",
          "data": {
            "text/html": [
              "<div>\n",
              "<style scoped>\n",
              "    .dataframe tbody tr th:only-of-type {\n",
              "        vertical-align: middle;\n",
              "    }\n",
              "\n",
              "    .dataframe tbody tr th {\n",
              "        vertical-align: top;\n",
              "    }\n",
              "\n",
              "    .dataframe thead th {\n",
              "        text-align: right;\n",
              "    }\n",
              "</style>\n",
              "<table border=\"1\" class=\"dataframe\">\n",
              "  <thead>\n",
              "    <tr style=\"text-align: right;\">\n",
              "      <th></th>\n",
              "      <th>power</th>\n",
              "      <th>pitch_mean</th>\n",
              "      <th>pitch_std</th>\n",
              "      <th>voiced_fr</th>\n",
              "      <th>zc_rate</th>\n",
              "      <th>mfccs</th>\n",
              "      <th>spec_centroids</th>\n",
              "      <th>spec_rolloff</th>\n",
              "      <th>chromagram</th>\n",
              "      <th>intonation_label</th>\n",
              "    </tr>\n",
              "  </thead>\n",
              "  <tbody>\n",
              "    <tr>\n",
              "      <th>0</th>\n",
              "      <td>0.028636</td>\n",
              "      <td>252.507043</td>\n",
              "      <td>58.852188</td>\n",
              "      <td>0.503704</td>\n",
              "      <td>0.080730</td>\n",
              "      <td>-18.196531</td>\n",
              "      <td>1666.780588</td>\n",
              "      <td>3794.118724</td>\n",
              "      <td>0.434165</td>\n",
              "      <td>1</td>\n",
              "    </tr>\n",
              "    <tr>\n",
              "      <th>1</th>\n",
              "      <td>0.019146</td>\n",
              "      <td>244.162956</td>\n",
              "      <td>91.534801</td>\n",
              "      <td>0.327103</td>\n",
              "      <td>0.083100</td>\n",
              "      <td>-9.426552</td>\n",
              "      <td>2327.077190</td>\n",
              "      <td>4790.340169</td>\n",
              "      <td>0.519815</td>\n",
              "      <td>3</td>\n",
              "    </tr>\n",
              "    <tr>\n",
              "      <th>2</th>\n",
              "      <td>0.061597</td>\n",
              "      <td>178.626050</td>\n",
              "      <td>8.016854</td>\n",
              "      <td>0.663158</td>\n",
              "      <td>0.058137</td>\n",
              "      <td>-12.321603</td>\n",
              "      <td>1772.748383</td>\n",
              "      <td>3875.079346</td>\n",
              "      <td>0.280043</td>\n",
              "      <td>2</td>\n",
              "    </tr>\n",
              "    <tr>\n",
              "      <th>3</th>\n",
              "      <td>0.022428</td>\n",
              "      <td>173.763780</td>\n",
              "      <td>24.505713</td>\n",
              "      <td>0.482353</td>\n",
              "      <td>0.123000</td>\n",
              "      <td>-17.088223</td>\n",
              "      <td>2134.395459</td>\n",
              "      <td>4233.778275</td>\n",
              "      <td>0.465874</td>\n",
              "      <td>2</td>\n",
              "    </tr>\n",
              "    <tr>\n",
              "      <th>4</th>\n",
              "      <td>0.027876</td>\n",
              "      <td>100.769634</td>\n",
              "      <td>8.267222</td>\n",
              "      <td>0.261538</td>\n",
              "      <td>0.185120</td>\n",
              "      <td>-15.394916</td>\n",
              "      <td>2690.371609</td>\n",
              "      <td>5289.990234</td>\n",
              "      <td>0.456602</td>\n",
              "      <td>1</td>\n",
              "    </tr>\n",
              "  </tbody>\n",
              "</table>\n",
              "</div>"
            ],
            "text/plain": [
              "      power  pitch_mean  pitch_std  ...  spec_rolloff  chromagram  intonation_label\n",
              "0  0.028636  252.507043  58.852188  ...   3794.118724    0.434165                 1\n",
              "1  0.019146  244.162956  91.534801  ...   4790.340169    0.519815                 3\n",
              "2  0.061597  178.626050   8.016854  ...   3875.079346    0.280043                 2\n",
              "3  0.022428  173.763780  24.505713  ...   4233.778275    0.465874                 2\n",
              "4  0.027876  100.769634   8.267222  ...   5289.990234    0.456602                 1\n",
              "\n",
              "[5 rows x 10 columns]"
            ]
          },
          "metadata": {},
          "execution_count": 43
        }
      ]
    },
    {
      "cell_type": "markdown",
      "metadata": {
        "id": "UpBZg54N9oxX"
      },
      "source": [
        "### Splitting the data and normilisation\n",
        "#### Splitting the data into train and test sets\n",
        "\n"
      ]
    },
    {
      "cell_type": "code",
      "metadata": {
        "id": "Ddt7MUVD6cfw",
        "colab": {
          "base_uri": "https://localhost:8080/"
        },
        "outputId": "25e66ead-6188-4170-df23-a4ea4dbe3598"
      },
      "source": [
        "X_train, X_val, y_train, y_val = train_test_split(Xb1,yb1,test_size=0.3)\n",
        "X_train.shape, X_val.shape, y_train.shape, y_val.shape"
      ],
      "execution_count": 44,
      "outputs": [
        {
          "output_type": "execute_result",
          "data": {
            "text/plain": [
              "((350, 9), (150, 9), (350,), (150,))"
            ]
          },
          "metadata": {},
          "execution_count": 44
        }
      ]
    },
    {
      "cell_type": "markdown",
      "metadata": {
        "id": "BbVwJwcZ-9L7"
      },
      "source": [
        "#### Feature normilisation:\n",
        "The features were normalised prior to modelling"
      ]
    },
    {
      "cell_type": "code",
      "metadata": {
        "id": "RuyyM-n--zes"
      },
      "source": [
        "mean = X_train.mean(0)\n",
        "std_dev =  X_train.std(0)\n",
        "\n",
        "X_train = (X_train-mean)/std_dev\n",
        "X_val  = (X_val-mean)/std_dev\n"
      ],
      "execution_count": 45,
      "outputs": []
    },
    {
      "cell_type": "markdown",
      "metadata": {
        "id": "-sx2ZBaL9W9v"
      },
      "source": [
        "### Support Vector Machines:"
      ]
    },
    {
      "cell_type": "code",
      "metadata": {
        "id": "1x2nXS1W_h9r",
        "colab": {
          "base_uri": "https://localhost:8080/"
        },
        "outputId": "4718543b-7213-45bb-c55c-2fc0c06b55a9"
      },
      "source": [
        "svm_model = svm.SVC(C=1)\n",
        "svm_model.fit(X_train,y_train)\n",
        "\n",
        "svm_yt_p = svm_model.predict(X_train)\n",
        "svm_yv_p = svm_model.predict(X_val)\n",
        "\n",
        "svm_train_acc =  np.mean(svm_yt_p==y_train)\n",
        "svm_val_acc = np.mean(svm_yv_p==y_val)\n",
        "\n",
        "print(f'Training Accuracy: {svm_train_acc:0.4f}')\n",
        "print(f'Validation Accuracy: {svm_val_acc:0.4f}\\n\\n')\n",
        "print(classification_report(y_val,svm_yv_p))"
      ],
      "execution_count": 46,
      "outputs": [
        {
          "output_type": "stream",
          "name": "stdout",
          "text": [
            "Training Accuracy: 0.6686\n",
            "Validation Accuracy: 0.5000\n",
            "\n",
            "\n",
            "              precision    recall  f1-score   support\n",
            "\n",
            "           0       0.58      0.64      0.61        45\n",
            "           1       0.37      0.31      0.34        32\n",
            "           2       0.42      0.40      0.41        40\n",
            "           3       0.57      0.61      0.59        33\n",
            "\n",
            "    accuracy                           0.50       150\n",
            "   macro avg       0.49      0.49      0.49       150\n",
            "weighted avg       0.49      0.50      0.49       150\n",
            "\n"
          ]
        }
      ]
    },
    {
      "cell_type": "markdown",
      "metadata": {
        "id": "XoMp7alFMQx9"
      },
      "source": [
        "### Logistic Regression:"
      ]
    },
    {
      "cell_type": "code",
      "metadata": {
        "id": "mZWiNikwG_kL",
        "colab": {
          "base_uri": "https://localhost:8080/"
        },
        "outputId": "33fc123c-6a45-4209-ea60-15e76487c949"
      },
      "source": [
        "LR_model = LogisticRegression(random_state=42)\n",
        "LR_model.fit(X_train,y_train)\n",
        "\n",
        "LR_yt_p = LR_model.predict(X_train)\n",
        "LR_yv_p = LR_model.predict(X_val)\n",
        "\n",
        "LR_train_acc =  np.mean(LR_yt_p==y_train)\n",
        "LR_val_acc = np.mean(LR_yv_p==y_val)\n",
        "\n",
        "print(f'Training Accuracy: {LR_train_acc:0.4f}')\n",
        "print(f'Validation Accuracy: {LR_val_acc:0.4f}\\n\\n ')\n",
        "print(classification_report(y_val,LR_yv_p))"
      ],
      "execution_count": 47,
      "outputs": [
        {
          "output_type": "stream",
          "name": "stdout",
          "text": [
            "Training Accuracy: 0.4886\n",
            "Validation Accuracy: 0.5267\n",
            "\n",
            " \n",
            "              precision    recall  f1-score   support\n",
            "\n",
            "           0       0.62      0.62      0.62        45\n",
            "           1       0.45      0.31      0.37        32\n",
            "           2       0.43      0.47      0.45        40\n",
            "           3       0.56      0.67      0.61        33\n",
            "\n",
            "    accuracy                           0.53       150\n",
            "   macro avg       0.52      0.52      0.51       150\n",
            "weighted avg       0.52      0.53      0.52       150\n",
            "\n"
          ]
        }
      ]
    },
    {
      "cell_type": "markdown",
      "metadata": {
        "id": "A2HDVoiHKEH4"
      },
      "source": [
        "### Random forest Classifier:"
      ]
    },
    {
      "cell_type": "code",
      "metadata": {
        "id": "BEWYy5glpRoC",
        "colab": {
          "base_uri": "https://localhost:8080/"
        },
        "outputId": "46e56a27-570d-4886-f5c4-3a52ec9d0e81"
      },
      "source": [
        "rfc_model = RandomForestClassifier(max_depth=2, random_state=42)\n",
        "rfc_model.fit(X_train,y_train)\n",
        "\n",
        "rfc_yt_p = rfc_model.predict(X_train)\n",
        "rfc_yv_p = rfc_model.predict(X_val)\n",
        "\n",
        "rfc_train_acc =  np.mean(rfc_yt_p==y_train)\n",
        "rfc_val_acc = np.mean(rfc_yv_p==y_val)\n",
        "\n",
        "print(f'Training Accuracy: {rfc_train_acc:0.4f}')\n",
        "print(f'Validation Accuracy: {rfc_val_acc:0.4f}\\n\\n ')\n",
        "print(classification_report(y_val,rfc_yv_p))"
      ],
      "execution_count": 48,
      "outputs": [
        {
          "output_type": "stream",
          "name": "stdout",
          "text": [
            "Training Accuracy: 0.5657\n",
            "Validation Accuracy: 0.4800\n",
            "\n",
            " \n",
            "              precision    recall  f1-score   support\n",
            "\n",
            "           0       0.55      0.78      0.64        45\n",
            "           1       0.36      0.38      0.37        32\n",
            "           2       0.38      0.15      0.21        40\n",
            "           3       0.51      0.58      0.54        33\n",
            "\n",
            "    accuracy                           0.48       150\n",
            "   macro avg       0.45      0.47      0.44       150\n",
            "weighted avg       0.45      0.48      0.45       150\n",
            "\n"
          ]
        }
      ]
    },
    {
      "cell_type": "markdown",
      "metadata": {
        "id": "tXRi-qWSLYt-"
      },
      "source": [
        "### Naive Bayes:"
      ]
    },
    {
      "cell_type": "code",
      "metadata": {
        "id": "O2mcCBTiLYCb",
        "colab": {
          "base_uri": "https://localhost:8080/"
        },
        "outputId": "58ecf88e-3506-4ea1-d60c-82f4664512db"
      },
      "source": [
        "NB_model = GaussianNB()\n",
        "NB_model.fit(X_train,y_train)\n",
        "\n",
        "NB_yt_p = NB_model.predict(X_train)\n",
        "NB_yv_p = NB_model.predict(X_val)\n",
        "\n",
        "NB_train_acc =  np.mean(NB_yt_p==y_train)\n",
        "NB_val_acc = np.mean(NB_yv_p==y_val)\n",
        "\n",
        "print(f'Training Accuracy: {NB_train_acc:0.4f}')\n",
        "print(f'Validation Accuracy: {NB_val_acc:0.4f}\\n\\n ')\n",
        "print(classification_report(y_val,NB_yv_p))"
      ],
      "execution_count": 49,
      "outputs": [
        {
          "output_type": "stream",
          "name": "stdout",
          "text": [
            "Training Accuracy: 0.5257\n",
            "Validation Accuracy: 0.5267\n",
            "\n",
            " \n",
            "              precision    recall  f1-score   support\n",
            "\n",
            "           0       0.73      0.49      0.59        45\n",
            "           1       0.39      0.34      0.37        32\n",
            "           2       0.46      0.65      0.54        40\n",
            "           3       0.57      0.61      0.59        33\n",
            "\n",
            "    accuracy                           0.53       150\n",
            "   macro avg       0.54      0.52      0.52       150\n",
            "weighted avg       0.55      0.53      0.53       150\n",
            "\n"
          ]
        }
      ]
    },
    {
      "cell_type": "markdown",
      "metadata": {
        "id": "dMSy53Z7M5fg"
      },
      "source": [
        "# Section 3: Advanced solution"
      ]
    },
    {
      "cell_type": "code",
      "metadata": {
        "id": "ZF7NMXxecpgX"
      },
      "source": [
        "def getXy2(files,labels_file,scale_audio=False, onlySingleDigit=False):\n",
        "  X,y =[],[]\n",
        "  for file in tqdm(files):\n",
        "    fileID = file.split('/')[-1]\n",
        "    yi = list(labels_file[labels_file['File ID']==fileID]['participant'])[0]\n",
        "    if onlySingleDigit:\n",
        "      continue\n",
        "    else:\n",
        "      fs = None # if None, fs would be 22050\n",
        "      x, fs = librosa.load(file,sr=fs)\n",
        "      if scale_audio: x = x/np.max(np.abs(x))\n",
        "      f0, voiced_flag = getPitch(x,fs,winLen=0.02)\n",
        "      \n",
        "      power = np.sum(x**2)/len(x)\n",
        "      pitch_mean = np.nanmean(f0) if np.mean(np.isnan(f0))<1 else 0\n",
        "      pitch_std  = np.nanstd(f0) if np.mean(np.isnan(f0))<1 else 0\n",
        "      voiced_fr = np.mean(voiced_flag)\n",
        "\n",
        "      # zero crossing rate\n",
        "      z_crossings = librosa.zero_crossings(x, pad=False)\n",
        "      zc_rate = sum(z_crossings)/len(x)\n",
        "\n",
        "      # MFCCs\n",
        "      mfccs = np.mean(librosa.feature.mfcc(x, sr=fs))\n",
        "\n",
        "      # spectral centroids\n",
        "      spec_centroids = np.mean(librosa.feature.spectral_centroid(x, sr=fs))\n",
        "\n",
        "      # spectral rolloff\n",
        "      spec_rolloff = np.mean(librosa.feature.spectral_rolloff(x, sr=fs))\n",
        "      \n",
        "      # chroma freqs\n",
        "      chromagram = np.mean(librosa.feature.chroma_stft(x, sr=fs))\n",
        "\n",
        "      xi = [power,pitch_mean,pitch_std,voiced_fr, zc_rate, mfccs, spec_centroids, spec_rolloff, chromagram]\n",
        "      X.append(xi)\n",
        "      y.append(yi)\n",
        "  return np.array(X),np.array(y)"
      ],
      "execution_count": 50,
      "outputs": []
    },
    {
      "cell_type": "code",
      "metadata": {
        "id": "e1HriiLmdmpY"
      },
      "source": [
        "X,y = getXy2(files[:5000],labels_file=labels,scale_audio=True, onlySingleDigit=False)\n",
        "\n",
        "X_copy2 = X.copy()\n",
        "y_copy2 = y.copy()\n",
        "\n",
        "X_copy3 = X.copy()\n",
        "y_copy3 = y.copy()"
      ],
      "execution_count": 55,
      "outputs": []
    },
    {
      "cell_type": "code",
      "metadata": {
        "colab": {
          "base_uri": "https://localhost:8080/",
          "height": 226
        },
        "id": "hDBBDgOjhx7T",
        "outputId": "5fb8cb9c-6724-4614-8a41-94ee7467322e"
      },
      "source": [
        "\n",
        "advanced_df = pd.DataFrame(np.column_stack([X,y]))\n",
        "advanced_df.columns=['power','pitch_mean','pitch_std','voiced_fr', \n",
        "                     'zc_rate','mfccs', 'spec_centroids', 'spec_rolloff', 'chromagram', 'participant']\n",
        "\n",
        "advanced_df.participant =  advanced_df.participant.str.replace('S', '').astype('int64')-1\n",
        "y = advanced_df.participant.values\n",
        "\n",
        "\n",
        "advanced_df.head()\n"
      ],
      "execution_count": 59,
      "outputs": [
        {
          "output_type": "execute_result",
          "data": {
            "text/html": [
              "<div>\n",
              "<style scoped>\n",
              "    .dataframe tbody tr th:only-of-type {\n",
              "        vertical-align: middle;\n",
              "    }\n",
              "\n",
              "    .dataframe tbody tr th {\n",
              "        vertical-align: top;\n",
              "    }\n",
              "\n",
              "    .dataframe thead th {\n",
              "        text-align: right;\n",
              "    }\n",
              "</style>\n",
              "<table border=\"1\" class=\"dataframe\">\n",
              "  <thead>\n",
              "    <tr style=\"text-align: right;\">\n",
              "      <th></th>\n",
              "      <th>power</th>\n",
              "      <th>pitch_mean</th>\n",
              "      <th>pitch_std</th>\n",
              "      <th>voiced_fr</th>\n",
              "      <th>zc_rate</th>\n",
              "      <th>mfccs</th>\n",
              "      <th>spec_centroids</th>\n",
              "      <th>spec_rolloff</th>\n",
              "      <th>chromagram</th>\n",
              "      <th>participant</th>\n",
              "    </tr>\n",
              "  </thead>\n",
              "  <tbody>\n",
              "    <tr>\n",
              "      <th>0</th>\n",
              "      <td>0.028636147767970334</td>\n",
              "      <td>252.50704251377005</td>\n",
              "      <td>58.85218813633359</td>\n",
              "      <td>0.5037037037037037</td>\n",
              "      <td>0.08073022312373225</td>\n",
              "      <td>-18.196531295776367</td>\n",
              "      <td>1666.7805878937818</td>\n",
              "      <td>3794.118724149816</td>\n",
              "      <td>0.43416547775268555</td>\n",
              "      <td>36</td>\n",
              "    </tr>\n",
              "    <tr>\n",
              "      <th>1</th>\n",
              "      <td>0.019145605699071346</td>\n",
              "      <td>244.16295628437163</td>\n",
              "      <td>91.53480125490546</td>\n",
              "      <td>0.32710280373831774</td>\n",
              "      <td>0.08309994103773585</td>\n",
              "      <td>-9.426551818847656</td>\n",
              "      <td>2327.077189929391</td>\n",
              "      <td>4790.340169270833</td>\n",
              "      <td>0.51981520652771</td>\n",
              "      <td>68</td>\n",
              "    </tr>\n",
              "    <tr>\n",
              "      <th>2</th>\n",
              "      <td>0.06159674360397014</td>\n",
              "      <td>178.62604998360885</td>\n",
              "      <td>8.016854156744527</td>\n",
              "      <td>0.6631578947368421</td>\n",
              "      <td>0.05813663563829787</td>\n",
              "      <td>-12.321602821350098</td>\n",
              "      <td>1772.7483827843614</td>\n",
              "      <td>3875.079345703125</td>\n",
              "      <td>0.2800426185131073</td>\n",
              "      <td>109</td>\n",
              "    </tr>\n",
              "    <tr>\n",
              "      <th>3</th>\n",
              "      <td>0.022428276992979505</td>\n",
              "      <td>173.76377980490935</td>\n",
              "      <td>24.505712734619497</td>\n",
              "      <td>0.4823529411764706</td>\n",
              "      <td>0.12300037202380952</td>\n",
              "      <td>-17.08822250366211</td>\n",
              "      <td>2134.3954589578148</td>\n",
              "      <td>4233.7782748909885</td>\n",
              "      <td>0.46587416529655457</td>\n",
              "      <td>28</td>\n",
              "    </tr>\n",
              "    <tr>\n",
              "      <th>4</th>\n",
              "      <td>0.027875607833266258</td>\n",
              "      <td>100.76963440149888</td>\n",
              "      <td>8.267221617850481</td>\n",
              "      <td>0.26153846153846155</td>\n",
              "      <td>0.18511962890625</td>\n",
              "      <td>-15.394915580749512</td>\n",
              "      <td>2690.371608798505</td>\n",
              "      <td>5289.990234375</td>\n",
              "      <td>0.45660200715065</td>\n",
              "      <td>139</td>\n",
              "    </tr>\n",
              "  </tbody>\n",
              "</table>\n",
              "</div>"
            ],
            "text/plain": [
              "                  power          pitch_mean  ...           chromagram participant\n",
              "0  0.028636147767970334  252.50704251377005  ...  0.43416547775268555          36\n",
              "1  0.019145605699071346  244.16295628437163  ...     0.51981520652771          68\n",
              "2   0.06159674360397014  178.62604998360885  ...   0.2800426185131073         109\n",
              "3  0.022428276992979505  173.76377980490935  ...  0.46587416529655457          28\n",
              "4  0.027875607833266258  100.76963440149888  ...     0.45660200715065         139\n",
              "\n",
              "[5 rows x 10 columns]"
            ]
          },
          "metadata": {},
          "execution_count": 59
        }
      ]
    },
    {
      "cell_type": "code",
      "metadata": {
        "id": "qUReH8iNj2BG"
      },
      "source": [
        "# Normalising the data\n",
        "norm_scaler = sklearn.preprocessing.StandardScaler()\n",
        "X_norm = norm_scaler.fit_transform(X_copy3)\n"
      ],
      "execution_count": 60,
      "outputs": []
    },
    {
      "cell_type": "markdown",
      "metadata": {
        "id": "x5vAgFyuAbMp"
      },
      "source": [
        "### Training dataset and dataloader\n",
        "\n",
        "In the first and second neural networks, the features used were:\n",
        "- power\n",
        "- pitch_mean\n",
        "- pitch_std\n",
        "- voiced_fr \n",
        "\n",
        "An 80/20 training/validation split point was used, corresponding to 4000 files used in training and 1000 used in validation.\n"
      ]
    },
    {
      "cell_type": "code",
      "metadata": {
        "id": "LyUMCCcMFzqZ"
      },
      "source": [
        "X1 = X_norm[:,:4]\n",
        "X1 = torch.tensor(X1)\n",
        "y1 = torch.tensor(y)\n",
        "\n",
        "# Split point of the training and testing datasets\n",
        "split_point = int(0.8*len(X1))\n",
        "\n",
        "train_dataset1 = TensorDataset(X1[:split_point], y1[:split_point])\n",
        "val_dataset1 = TensorDataset(X1[split_point:], y1[split_point:])\n",
        "\n",
        "# Batch size 1\n",
        "batch_size1=120\n",
        "\n",
        "# DataLoader object\n",
        "train_data_iter1 = DataLoader(train_dataset1, batch_size1, shuffle=True)\n",
        "val_data_iter1 = DataLoader(val_dataset1, batch_size1, shuffle=True)"
      ],
      "execution_count": 88,
      "outputs": []
    },
    {
      "cell_type": "code",
      "metadata": {
        "id": "xmTj5TrXANEf"
      },
      "source": [
        "class Net(torch.nn.Module):\n",
        "    def __init__(self, num_inputs, num_hidden, num_outputs):\n",
        "        super(Net, self).__init__()\n",
        "        self.num_inputs = num_inputs\n",
        "        self.num_hidden = num_hidden\n",
        "        self.num_outputs = num_outputs\n",
        "\n",
        "        self.Linear1 = nn.Linear(num_inputs, num_hidden)\n",
        "        torch.nn.init.normal_(self.Linear1.weight, std=0.01) \n",
        "        torch.nn.init.zeros_(self.Linear1.bias) \n",
        "\n",
        "        self.Linear2 = nn.Linear(num_hidden, num_outputs)\n",
        "        torch.nn.init.normal_(self.Linear2.weight, std=0.01) \n",
        "        torch.nn.init.zeros_(self.Linear2.bias) \n",
        "        \n",
        "    def forward(self, x):\n",
        "        x1 = torch.relu(self.Linear1(x.float()))\n",
        "        x2 = self.Linear2(x1)\n",
        "        return x2"
      ],
      "execution_count": 89,
      "outputs": []
    },
    {
      "cell_type": "code",
      "metadata": {
        "id": "-LFmoysEAhvM"
      },
      "source": [
        "# number of participants\n",
        "num_of_participants = labels.participant.nunique()\n",
        "num_inputs = 4\n",
        "num_hidden = 24\n",
        "num_outputs = num_of_participants\n"
      ],
      "execution_count": 90,
      "outputs": []
    },
    {
      "cell_type": "code",
      "metadata": {
        "id": "J-tnLGiZAoXj"
      },
      "source": [
        "def train_nn(net, train_iter, train_dataset, loss, optimizer, epochs):\n",
        "  epoch_count = 1\n",
        "  for epoch in range(epochs):\n",
        "    correct = 0\n",
        "    for X, y in train_iter:\n",
        "      optimizer.zero_grad()\n",
        "\n",
        "      # Calculation of predicted y values\n",
        "      y_hat = net(X)\n",
        "\n",
        "      # loss calculation\n",
        "      l = loss(y_hat,y)\n",
        "\n",
        "      # weights are updated\n",
        "      l.backward()\n",
        "\n",
        "      # Parameters are updated using current gradients\n",
        "      optimizer.step()\n",
        "\n",
        "      \n",
        "      # gradients set to zero \n",
        "      optimizer.zero_grad()\n",
        "\n",
        "      y_preds = torch.argmax(net(X), dim=1)\n",
        "\n",
        "      correct += (y_preds == y).sum()\n",
        "\n",
        "    accuracy = (100*correct)/len(train_dataset)\n",
        "    epoch_count+=1\n",
        "    if epoch_count % 50 == 0: \n",
        "      print(f'Epoch: {epoch_count}, Accuracy %: {accuracy:0.3f}')"
      ],
      "execution_count": 91,
      "outputs": []
    },
    {
      "cell_type": "markdown",
      "metadata": {
        "id": "WYKusm6nzd67"
      },
      "source": [
        "### Neural network 1"
      ]
    },
    {
      "cell_type": "code",
      "metadata": {
        "colab": {
          "base_uri": "https://localhost:8080/"
        },
        "id": "KLsZwigYAtgz",
        "outputId": "fa2c4fe3-cd99-41d1-c700-5840eccb76e0"
      },
      "source": [
        "\n",
        "net1 = Net(num_inputs, num_hidden, num_outputs)\n",
        "loss1 = nn.CrossEntropyLoss()\n",
        "optimizer1 = torch.optim.SGD(net1.parameters(), lr=0.1)\n",
        "\n",
        "train_nn(net1, train_data_iter1, train_dataset1, loss1, optimizer1, 1000)"
      ],
      "execution_count": 92,
      "outputs": [
        {
          "output_type": "stream",
          "name": "stdout",
          "text": [
            "Epoch: 50, Accuracy %: 2.675\n",
            "Epoch: 100, Accuracy %: 6.450\n",
            "Epoch: 150, Accuracy %: 8.450\n",
            "Epoch: 200, Accuracy %: 10.000\n",
            "Epoch: 250, Accuracy %: 12.225\n",
            "Epoch: 300, Accuracy %: 13.575\n",
            "Epoch: 350, Accuracy %: 14.350\n",
            "Epoch: 400, Accuracy %: 15.675\n",
            "Epoch: 450, Accuracy %: 16.700\n",
            "Epoch: 500, Accuracy %: 16.825\n",
            "Epoch: 550, Accuracy %: 17.750\n",
            "Epoch: 600, Accuracy %: 18.750\n",
            "Epoch: 650, Accuracy %: 19.275\n",
            "Epoch: 700, Accuracy %: 18.750\n",
            "Epoch: 750, Accuracy %: 20.025\n",
            "Epoch: 800, Accuracy %: 19.950\n",
            "Epoch: 850, Accuracy %: 21.350\n",
            "Epoch: 900, Accuracy %: 20.850\n",
            "Epoch: 950, Accuracy %: 21.425\n",
            "Epoch: 1000, Accuracy %: 21.550\n"
          ]
        }
      ]
    },
    {
      "cell_type": "markdown",
      "metadata": {
        "id": "_Ve_fvoYzhrY"
      },
      "source": [
        "### Neural network 2"
      ]
    },
    {
      "cell_type": "code",
      "metadata": {
        "colab": {
          "base_uri": "https://localhost:8080/"
        },
        "id": "IrHKBmwwD2hO",
        "outputId": "cefcec17-aac4-4fe6-d05c-0eeb02d21c53"
      },
      "source": [
        "# single feature used\n",
        "X2 = X_norm[:,:4]\n",
        "X2 = torch.tensor(X2)\n",
        "y2 = torch.tensor(y)\n",
        "\n",
        "train_dataset2 = TensorDataset(X2[:split_point], y2[:split_point])\n",
        "val_dataset2 = TensorDataset(X2[split_point:], y2[split_point:])\n",
        "\n",
        "# Batch size\n",
        "batch_size2=120\n",
        "\n",
        "# DataLoader object\n",
        "train_data_iter2 = DataLoader(train_dataset2, batch_size2, shuffle=True)\n",
        "val_data_iter2 = DataLoader(val_dataset2, batch_size2, shuffle=True)\n",
        "\n",
        "# number of participants\n",
        "num_of_participants = labels.participant.nunique()\n",
        "num_inputs = 4\n",
        "num_hidden = 64\n",
        "num_outputs = num_of_participants\n",
        "\n",
        "\n",
        "net2 = Net(num_inputs, num_hidden, num_outputs)\n",
        "loss2 = nn.CrossEntropyLoss()\n",
        "optimizer2 = torch.optim.Adam(net2.parameters(), lr=0.01)\n",
        "\n",
        "\n",
        "train_nn(net2, train_data_iter2, train_dataset2, loss2, optimizer2, 1000)\n"
      ],
      "execution_count": 93,
      "outputs": [
        {
          "output_type": "stream",
          "name": "stdout",
          "text": [
            "Epoch: 50, Accuracy %: 17.450\n",
            "Epoch: 100, Accuracy %: 22.650\n",
            "Epoch: 150, Accuracy %: 25.150\n",
            "Epoch: 200, Accuracy %: 26.350\n",
            "Epoch: 250, Accuracy %: 27.825\n",
            "Epoch: 300, Accuracy %: 29.850\n",
            "Epoch: 350, Accuracy %: 29.200\n",
            "Epoch: 400, Accuracy %: 31.425\n",
            "Epoch: 450, Accuracy %: 31.850\n",
            "Epoch: 500, Accuracy %: 32.600\n",
            "Epoch: 550, Accuracy %: 32.425\n",
            "Epoch: 600, Accuracy %: 33.225\n",
            "Epoch: 650, Accuracy %: 33.450\n",
            "Epoch: 700, Accuracy %: 33.425\n",
            "Epoch: 750, Accuracy %: 34.525\n",
            "Epoch: 800, Accuracy %: 35.050\n",
            "Epoch: 850, Accuracy %: 34.925\n",
            "Epoch: 900, Accuracy %: 36.875\n",
            "Epoch: 950, Accuracy %: 36.600\n",
            "Epoch: 1000, Accuracy %: 35.925\n"
          ]
        }
      ]
    },
    {
      "cell_type": "markdown",
      "metadata": {
        "id": "cTyjo1LMkepv"
      },
      "source": [
        "### Neural network 3\n",
        "In the following neural networks, all of the additional features will be used."
      ]
    },
    {
      "cell_type": "code",
      "metadata": {
        "colab": {
          "base_uri": "https://localhost:8080/"
        },
        "id": "0-LwS6IcmLU9",
        "outputId": "176d6079-aa7d-4f78-e7f8-0f13c63753a7"
      },
      "source": [
        "X3 = X_norm\n",
        "X3 = torch.tensor(X3)\n",
        "y3 = torch.tensor(y)\n",
        "\n",
        "train_dataset3 = TensorDataset(X3[:split_point], y3[:split_point])\n",
        "val_dataset3 = TensorDataset(X3[split_point:], y3[split_point:])\n",
        "\n",
        "# Batch size\n",
        "batch_size3=80\n",
        "\n",
        "# DataLoader object\n",
        "train_data_iter3 = DataLoader(train_dataset3, batch_size3, shuffle=True)\n",
        "val_data_iter3 = DataLoader(val_dataset3, batch_size3, shuffle=True)\n",
        "\n",
        "# number of participants\n",
        "num_of_participants = labels.participant.nunique()\n",
        "num_inputs = 9\n",
        "num_hidden = 24\n",
        "num_outputs = num_of_participants\n",
        "\n",
        "\n",
        "net3 = Net(num_inputs, num_hidden, num_outputs)\n",
        "loss3 = nn.CrossEntropyLoss()\n",
        "optimizer3 = torch.optim.SGD(net3.parameters(), lr=0.1)\n",
        "\n",
        "\n",
        "train_nn(net3, train_data_iter3, train_dataset3, loss3, optimizer3, 1000)"
      ],
      "execution_count": 94,
      "outputs": [
        {
          "output_type": "stream",
          "name": "stdout",
          "text": [
            "Epoch: 50, Accuracy %: 20.925\n",
            "Epoch: 100, Accuracy %: 37.075\n",
            "Epoch: 150, Accuracy %: 44.900\n",
            "Epoch: 200, Accuracy %: 48.575\n",
            "Epoch: 250, Accuracy %: 51.825\n",
            "Epoch: 300, Accuracy %: 53.850\n",
            "Epoch: 350, Accuracy %: 55.775\n",
            "Epoch: 400, Accuracy %: 56.775\n",
            "Epoch: 450, Accuracy %: 57.525\n",
            "Epoch: 500, Accuracy %: 59.025\n",
            "Epoch: 550, Accuracy %: 59.375\n",
            "Epoch: 600, Accuracy %: 60.075\n",
            "Epoch: 650, Accuracy %: 60.125\n",
            "Epoch: 700, Accuracy %: 60.850\n",
            "Epoch: 750, Accuracy %: 61.175\n",
            "Epoch: 800, Accuracy %: 61.450\n",
            "Epoch: 850, Accuracy %: 61.600\n",
            "Epoch: 900, Accuracy %: 61.450\n",
            "Epoch: 950, Accuracy %: 62.225\n",
            "Epoch: 1000, Accuracy %: 62.375\n"
          ]
        }
      ]
    },
    {
      "cell_type": "markdown",
      "metadata": {
        "id": "40iI8tSQzmgm"
      },
      "source": [
        "### Neural network 4"
      ]
    },
    {
      "cell_type": "code",
      "metadata": {
        "colab": {
          "base_uri": "https://localhost:8080/"
        },
        "id": "Lws1iuyomLqJ",
        "outputId": "9bf39a3d-8ad3-46ac-fd7e-458145d5b2a2"
      },
      "source": [
        "X4 = X_norm\n",
        "X4 = torch.tensor(X4)\n",
        "y4 = torch.tensor(y)\n",
        "\n",
        "train_dataset4 = TensorDataset(X4[:split_point], y4[:split_point])\n",
        "val_dataset4 = TensorDataset(X4[split_point:], y4[split_point:])\n",
        "\n",
        "# Batch size\n",
        "batch_size4=80\n",
        "\n",
        "# DataLoader object\n",
        "train_data_iter4 = DataLoader(train_dataset4, batch_size4, shuffle=True)\n",
        "val_data_iter4 = DataLoader(val_dataset4, batch_size4, shuffle=True)\n",
        "\n",
        "# number of participants\n",
        "num_of_participants = labels.participant.nunique()\n",
        "num_inputs = 9\n",
        "num_hidden = 64\n",
        "num_outputs = num_of_participants\n",
        "\n",
        "\n",
        "net4 = Net(num_inputs, num_hidden, num_outputs)\n",
        "loss4 = nn.CrossEntropyLoss()\n",
        "optimizer4 = torch.optim.Adam(net4.parameters(), lr=0.001)\n",
        "\n",
        "\n",
        "train_nn(net4, train_data_iter4, train_dataset4, loss4, optimizer4, 1000)"
      ],
      "execution_count": 95,
      "outputs": [
        {
          "output_type": "stream",
          "name": "stdout",
          "text": [
            "Epoch: 50, Accuracy %: 37.250\n",
            "Epoch: 100, Accuracy %: 48.325\n",
            "Epoch: 150, Accuracy %: 54.175\n",
            "Epoch: 200, Accuracy %: 58.225\n",
            "Epoch: 250, Accuracy %: 62.800\n",
            "Epoch: 300, Accuracy %: 66.125\n",
            "Epoch: 350, Accuracy %: 68.600\n",
            "Epoch: 400, Accuracy %: 71.350\n",
            "Epoch: 450, Accuracy %: 73.725\n",
            "Epoch: 500, Accuracy %: 75.775\n",
            "Epoch: 550, Accuracy %: 77.550\n",
            "Epoch: 600, Accuracy %: 78.300\n",
            "Epoch: 650, Accuracy %: 80.075\n",
            "Epoch: 700, Accuracy %: 81.350\n",
            "Epoch: 750, Accuracy %: 81.950\n",
            "Epoch: 800, Accuracy %: 83.625\n",
            "Epoch: 850, Accuracy %: 84.200\n",
            "Epoch: 900, Accuracy %: 85.150\n",
            "Epoch: 950, Accuracy %: 86.125\n",
            "Epoch: 1000, Accuracy %: 86.950\n"
          ]
        }
      ]
    },
    {
      "cell_type": "markdown",
      "metadata": {
        "id": "PKM0nKVZoBPv"
      },
      "source": [
        "### Validation of the Neural Network\n"
      ]
    },
    {
      "cell_type": "code",
      "metadata": {
        "id": "XKYKPSNkoYJ-"
      },
      "source": [
        "def validation_acc(net, val_data_iter, val_dataset):\n",
        "  correct = 0\n",
        "  for X, y in val_data_iter:\n",
        "\n",
        "    # Calculation of predicted y values\n",
        "    y_preds = torch.argmax(net(X), dim=1)\n",
        "\n",
        "    correct += (y_preds == y).sum()\n",
        "\n",
        "  accuracy = (100*correct)/len(val_dataset)\n",
        "  \n",
        "  print(f'Accuracy %: {accuracy:0.3f}')"
      ],
      "execution_count": 96,
      "outputs": []
    },
    {
      "cell_type": "code",
      "metadata": {
        "colab": {
          "base_uri": "https://localhost:8080/"
        },
        "id": "zrNR61-Yr_7b",
        "outputId": "b1f119ee-7bc3-49e2-f42c-da98f29ed596"
      },
      "source": [
        "validation_acc(net1, val_data_iter1, val_dataset1)\n"
      ],
      "execution_count": 97,
      "outputs": [
        {
          "output_type": "stream",
          "name": "stdout",
          "text": [
            "Accuracy %: 7.100\n"
          ]
        }
      ]
    },
    {
      "cell_type": "code",
      "metadata": {
        "colab": {
          "base_uri": "https://localhost:8080/"
        },
        "id": "XXWaxtkk0a8l",
        "outputId": "881f5ef6-eb30-4cb1-ad94-232bf556cad7"
      },
      "source": [
        "validation_acc(net2, val_data_iter2, val_dataset2)"
      ],
      "execution_count": 98,
      "outputs": [
        {
          "output_type": "stream",
          "name": "stdout",
          "text": [
            "Accuracy %: 8.000\n"
          ]
        }
      ]
    },
    {
      "cell_type": "code",
      "metadata": {
        "colab": {
          "base_uri": "https://localhost:8080/"
        },
        "id": "_5gWHnJ20jhz",
        "outputId": "72e812a8-35f3-4faa-fde9-4dea16731c8e"
      },
      "source": [
        "validation_acc(net3, val_data_iter3, val_dataset3)"
      ],
      "execution_count": 99,
      "outputs": [
        {
          "output_type": "stream",
          "name": "stdout",
          "text": [
            "Accuracy %: 34.000\n"
          ]
        }
      ]
    },
    {
      "cell_type": "code",
      "metadata": {
        "colab": {
          "base_uri": "https://localhost:8080/"
        },
        "id": "GxInOE4X6aHS",
        "outputId": "fd84695a-7870-4834-d180-dfd36a4e8a54"
      },
      "source": [
        "validation_acc(net4, val_data_iter4, val_dataset4)"
      ],
      "execution_count": 104,
      "outputs": [
        {
          "output_type": "stream",
          "name": "stdout",
          "text": [
            "Accuracy %: 35.500\n"
          ]
        }
      ]
    },
    {
      "cell_type": "markdown",
      "metadata": {
        "id": "PDQGuKCky1-0"
      },
      "source": [
        "# Results of the neural networks\n",
        "The results for the neural networks are shown below. In all of the networks, there was substantial overfitting. This may be attributed to the limited number of files that were evaluated due to computing limitations due to the significant time taken to load the files. 4000 files were used in training, with 1000 files left for a validation set.\n",
        "\n",
        "The third and fourth neural networks outperformed the first and second by a substantial margin. This can be attributed to the increased number of features and therefore data points. \n",
        "\n",
        "A variety of a hyperparameters were explored, including the batch size, optimizer (such as SGD or Adam) and learning rate.\n",
        "\n",
        "The third and fourth neural networks performed relatively well, with a accuracy of around 35%. Given there was only 4000 files that were used in training, a model that is able to predict the participant over 1/3rd of the time out of a class of 184 is a good result. "
      ]
    }
  ]
}